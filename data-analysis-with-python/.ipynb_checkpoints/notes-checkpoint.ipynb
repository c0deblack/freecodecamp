{
 "cells": [
  {
   "cell_type": "markdown",
   "id": "19362ee9-5f28-4c9a-a844-f774539a4f94",
   "metadata": {
    "tags": []
   },
   "source": [
    "## Introduction to Data Analysis"
   ]
  },
  {
   "cell_type": "markdown",
   "id": "d36e0fc2-ec8e-45ef-8a24-d3d7ba5e3364",
   "metadata": {
    "jp-MarkdownHeadingCollapsed": true,
    "tags": []
   },
   "source": [
    "### What is data analysis?\n",
    "- the process of inspecting, cleansing, and transforming/modeling data\n",
    "- goal to discover useful information to support decision making\n",
    "\n",
    "### What data analysis tools are there?\n",
    "- Managed Tools\n",
    "    - Qlik\n",
    "    - tableau\n",
    "    - looker\n",
    "    - zoho\n",
    "- Programming languages\n",
    "    - python\n",
    "    - R\n",
    "    - Julia\n",
    "\n",
    "### Why python?\n",
    "- simple, good documentation and reference\n",
    "- large library database\n",
    "- free\n",
    "\n",
    "### When to choose R?\n",
    "- extreme performance required\n",
    "- required R Studio\n",
    "\n",
    "### What is the data analysis process?\n",
    "- extraction\n",
    "- cleansing\n",
    "- wrangling - reshaping\n",
    "- analysis\n",
    "- action\n",
    "\n",
    "### Difference between data scientist and data analysts\n",
    "- data scientists are more technical\n",
    "- data analysis creates reports"
   ]
  },
  {
   "cell_type": "markdown",
   "id": "2be5ad5d-24e7-44dd-8023-ce9960b23e01",
   "metadata": {
    "tags": []
   },
   "source": [
    "## Data Analysis Example A"
   ]
  },
  {
   "cell_type": "markdown",
   "id": "e6b48028-8022-411a-8f6a-dc883e8e97a8",
   "metadata": {
    "tags": []
   },
   "source": [
    "### Read CSV into pandas\n",
    "```python\n",
    "import numpy as np\n",
    "import pandas as pd\n",
    "import matplotlib.pyplot as plt\n",
    "\n",
    "sales = pd.read_cvs()\n",
    "```\n",
    "\n",
    "### The Data Frame\n",
    "```python\n",
    "# view the structure of data, similar to a database schema\n",
    "sales.info()\n",
    "```\n",
    "\n",
    "### Desribe the data\n",
    "```python\n",
    "# view data statistics\n",
    "sales.describe()\n",
    "```\n",
    "\n",
    "### Plot Data\n",
    "```python\n",
    "sales['Unit_Cost'].plot(kind='box', vert=False, figsize=(14,6))\n",
    "```\n",
    "\n",
    "### Group data\n",
    "```python\n",
    "# count occurances of data\n",
    "sales.['Age_Group'].value_count()\n",
    "```\n",
    "\n",
    "### Correlate Data\n",
    "```python\n",
    "# quick correlation analysis\n",
    "sales.corr()\n",
    "\n",
    "# graph the correlation\n",
    "fig = plt.figure(figsize=(8,8))\n",
    "plt.matshow(corr, cmap='RdBu', fignum=fig.number)\n",
    "plt.xticks(range(len(corr.columns)), corr.columns, rotation='vertical');\n",
    "plt.yticks(range(len(corr.columns)), corr.columns);\n",
    "\n",
    "# graph correlation manually selecting x and y data type (sctter plot)\n",
    "sales.plot(kind='scatter', x='Customer_Age', y='Revenue', figsize=(6,6))\n",
    "```"
   ]
  },
  {
   "cell_type": "markdown",
   "id": "4ec62ca3-f2bf-49b2-b93f-918ac78d8c2a",
   "metadata": {
    "tags": []
   },
   "source": [
    "## Data Analysis Example B"
   ]
  },
  {
   "cell_type": "markdown",
   "id": "1d94c4d4-c09c-4b02-a83c-47a16c09bbb4",
   "metadata": {},
   "source": [
    "### Data wrangling\n",
    "\n",
    "```python\n",
    "# quickly create new columns\n",
    "sales['Revenue_per_Age'] = sales['Revenue'] / sales['Customer_Age']\n",
    "\n",
    "#plot the resulting column\n",
    "sales['Revenue_per_Age'].plot(kind='density', figsize=(14,6))\n",
    "```\n",
    "\n",
    "### Run operations on calculated columns\n",
    "```python\n",
    "sales['Calculated_Cost'] = sales['Order_Quantity'] * sales['Unit_Cost']\n",
    "\n",
    "(sales['Calculated_Cost'] != sales['Cost']).sum()\n",
    "\n",
    "sales['Unit_Price'] *= 1.03\n",
    "```\n",
    "\n",
    "### Filter data with loc() method\n",
    "```python\n",
    "sales.loc[sales['State'] == 'Kentucky']\n",
    "sales.loc[sales['Age_Group'] == 'Adults (35-64)', 'Revenue'].mean()\n",
    "sales.loc[(sales['Age_Group'] == 'Youth (<25)') | (sales['Age_Group'] == 'Adults (35-64)')].shape[0]\n",
    "```"
   ]
  },
  {
   "cell_type": "code",
   "execution_count": null,
   "id": "155bbed3-b2d0-4fd3-a215-a551350fa32f",
   "metadata": {},
   "outputs": [],
   "source": []
  }
 ],
 "metadata": {
  "kernelspec": {
   "display_name": "Python 3 (ipykernel)",
   "language": "python",
   "name": "python3"
  },
  "language_info": {
   "codemirror_mode": {
    "name": "ipython",
    "version": 3
   },
   "file_extension": ".py",
   "mimetype": "text/x-python",
   "name": "python",
   "nbconvert_exporter": "python",
   "pygments_lexer": "ipython3",
   "version": "3.11.0"
  }
 },
 "nbformat": 4,
 "nbformat_minor": 5
}
